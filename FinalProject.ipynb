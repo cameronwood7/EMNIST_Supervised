{
 "cells": [
  {
   "attachments": {},
   "cell_type": "markdown",
   "metadata": {},
   "source": [
    "Cameron Wood <br>\n",
    "DTSA 5509 Final Project"
   ]
  },
  {
   "attachments": {},
   "cell_type": "markdown",
   "metadata": {},
   "source": [
    "### **Project Rundown**"
   ]
  },
  {
   "attachments": {},
   "cell_type": "markdown",
   "metadata": {},
   "source": [
    "The EMNIST (Extended Modified National Institute of Standards and Technology) Letters Dataset is an extension of the well-known MNIST dataset, which is the bread and butter of machine learning benchmarking. What sets EMNIST apart is its larger size and, as the name suggests, its inclusion of handwritten letters. This project will focus on the letter component within this extended dataset. </br>\n",
    "\n",
    "Image processing often relies on deep learning, which is CPU and GPU intensive. Through Supervised Learning, this project will show how we can create robust Classification models for handwritten letters. These models are more efficient and can be used on everyday machines, which would make them more accessible and useful for a broader audience. "
   ]
  },
  {
   "attachments": {},
   "cell_type": "markdown",
   "metadata": {},
   "source": [
    "### **Data Description**"
   ]
  },
  {
   "attachments": {},
   "cell_type": "markdown",
   "metadata": {},
   "source": [
    "The EMNIST Dataset was derived from the NIST Special Database 19 and converted to the same format and structure as the MNIST dataset. The original NIST Special Database 19 was currated from 3600 writers, consists of 810,000 character images and their respective true labels. </br>\n",
    "\n",
    "More details about the collection and conversion process is described in *EMNIST: an extension of MNIST to handwritten letters* by Gregory Cohen, et al. The data itself can be found within the paper referenced. </br>\n",
    "\n",
    "In the EMNIST Letters dataset, there are 88,800 samples in 26 classes representing every letter in the alphabet, upper- and lower-case. The data is stored in a binary format that describes the image in terms of 8-bit gray-scale resolution. All images are 28x28 pixels in size. </br>\n",
    "\n",
    "#### References: </br>\n",
    "Cohen, G., Afshar, S., Tapson, J., & van Schaik, A. (2017). EMNIST: an extension of MNIST to handwritten letters. Retrieved from http://arxiv.org/abs/1702.05373 </br>\n"
   ]
  },
  {
   "attachments": {},
   "cell_type": "markdown",
   "metadata": {},
   "source": [
    "### **Data Cleaning**"
   ]
  },
  {
   "attachments": {},
   "cell_type": "markdown",
   "metadata": {},
   "source": [
    "First we can run the cell below to get all of the necessary packages."
   ]
  },
  {
   "cell_type": "code",
   "execution_count": 1,
   "metadata": {},
   "outputs": [
    {
     "ename": "ModuleNotFoundError",
     "evalue": "No module named 'sklearn'",
     "output_type": "error",
     "traceback": [
      "\u001b[0;31m---------------------------------------------------------------------------\u001b[0m",
      "\u001b[0;31mModuleNotFoundError\u001b[0m                       Traceback (most recent call last)",
      "\u001b[1;32m/Users/cameronwood/Downloads/FinalProject.ipynb Cell 8\u001b[0m line \u001b[0;36m1\n\u001b[1;32m     <a href='vscode-notebook-cell:/Users/cameronwood/Downloads/FinalProject.ipynb#X10sZmlsZQ%3D%3D?line=11'>12</a>\u001b[0m \u001b[39mimport\u001b[39;00m \u001b[39mnumpy\u001b[39;00m \u001b[39mas\u001b[39;00m \u001b[39mnp\u001b[39;00m\n\u001b[1;32m     <a href='vscode-notebook-cell:/Users/cameronwood/Downloads/FinalProject.ipynb#X10sZmlsZQ%3D%3D?line=12'>13</a>\u001b[0m \u001b[39mimport\u001b[39;00m \u001b[39mpandas\u001b[39;00m \u001b[39mas\u001b[39;00m \u001b[39mpd\u001b[39;00m\n\u001b[0;32m---> <a href='vscode-notebook-cell:/Users/cameronwood/Downloads/FinalProject.ipynb#X10sZmlsZQ%3D%3D?line=13'>14</a>\u001b[0m \u001b[39mimport\u001b[39;00m \u001b[39msklearn\u001b[39;00m\n\u001b[1;32m     <a href='vscode-notebook-cell:/Users/cameronwood/Downloads/FinalProject.ipynb#X10sZmlsZQ%3D%3D?line=14'>15</a>\u001b[0m \u001b[39mfrom\u001b[39;00m \u001b[39msklearn\u001b[39;00m\u001b[39m.\u001b[39;00m\u001b[39mlinear_model\u001b[39;00m \u001b[39mimport\u001b[39;00m LogisticRegression\n\u001b[1;32m     <a href='vscode-notebook-cell:/Users/cameronwood/Downloads/FinalProject.ipynb#X10sZmlsZQ%3D%3D?line=15'>16</a>\u001b[0m \u001b[39mfrom\u001b[39;00m \u001b[39msklearn\u001b[39;00m\u001b[39m.\u001b[39;00m\u001b[39mtree\u001b[39;00m \u001b[39mimport\u001b[39;00m DecisionTreeClassifier\n",
      "\u001b[0;31mModuleNotFoundError\u001b[0m: No module named 'sklearn'"
     ]
    }
   ],
   "source": [
    "# Importing Packages\n",
    "\n",
    "import math\n",
    "import numpy as np\n",
    "import matplotlib.pylab as plt\n",
    "import seaborn as sns\n",
    "%matplotlib inline\n",
    "\n",
    "# Importing all necessary libraries\n",
    "\n",
    "from math import exp\n",
    "import numpy as np\n",
    "import pandas as pd\n",
    "import sklearn\n",
    "from sklearn.linear_model import LogisticRegression\n",
    "from sklearn.tree import DecisionTreeClassifier\n",
    "from sklearn.model_selection import train_test_split\n",
    "import matplotlib.pyplot as plt\n",
    "from sklearn import metrics\n",
    "%matplotlib inline"
   ]
  },
  {
   "attachments": {},
   "cell_type": "markdown",
   "metadata": {},
   "source": [
    "And then we can load in the data and check out what we're working with. We'll want to take note that the test dataset does not contain all of the letters in the alphabet, so we will just be using the training dataset and splitting it."
   ]
  },
  {
   "cell_type": "code",
   "execution_count": 3,
   "metadata": {},
   "outputs": [],
   "source": [
    "# Loading in the Dataset\n",
    "data = pd.read_csv('eminst\\emnist-letters-train.csv')"
   ]
  },
  {
   "cell_type": "code",
   "execution_count": 4,
   "metadata": {},
   "outputs": [
    {
     "data": {
      "text/html": [
       "<div>\n",
       "<style scoped>\n",
       "    .dataframe tbody tr th:only-of-type {\n",
       "        vertical-align: middle;\n",
       "    }\n",
       "\n",
       "    .dataframe tbody tr th {\n",
       "        vertical-align: top;\n",
       "    }\n",
       "\n",
       "    .dataframe thead th {\n",
       "        text-align: right;\n",
       "    }\n",
       "</style>\n",
       "<table border=\"1\" class=\"dataframe\">\n",
       "  <thead>\n",
       "    <tr style=\"text-align: right;\">\n",
       "      <th></th>\n",
       "      <th>23</th>\n",
       "      <th>0</th>\n",
       "      <th>0.1</th>\n",
       "      <th>0.2</th>\n",
       "      <th>0.3</th>\n",
       "      <th>0.4</th>\n",
       "      <th>0.5</th>\n",
       "      <th>0.6</th>\n",
       "      <th>0.7</th>\n",
       "      <th>0.8</th>\n",
       "      <th>...</th>\n",
       "      <th>0.406</th>\n",
       "      <th>0.407</th>\n",
       "      <th>0.408</th>\n",
       "      <th>0.409</th>\n",
       "      <th>0.410</th>\n",
       "      <th>0.411</th>\n",
       "      <th>0.412</th>\n",
       "      <th>0.413</th>\n",
       "      <th>0.414</th>\n",
       "      <th>0.415</th>\n",
       "    </tr>\n",
       "  </thead>\n",
       "  <tbody>\n",
       "    <tr>\n",
       "      <th>0</th>\n",
       "      <td>7</td>\n",
       "      <td>0</td>\n",
       "      <td>0</td>\n",
       "      <td>0</td>\n",
       "      <td>0</td>\n",
       "      <td>0</td>\n",
       "      <td>0</td>\n",
       "      <td>0</td>\n",
       "      <td>0</td>\n",
       "      <td>0</td>\n",
       "      <td>...</td>\n",
       "      <td>0</td>\n",
       "      <td>0</td>\n",
       "      <td>0</td>\n",
       "      <td>0</td>\n",
       "      <td>0</td>\n",
       "      <td>0</td>\n",
       "      <td>0</td>\n",
       "      <td>0</td>\n",
       "      <td>0</td>\n",
       "      <td>0</td>\n",
       "    </tr>\n",
       "    <tr>\n",
       "      <th>1</th>\n",
       "      <td>16</td>\n",
       "      <td>0</td>\n",
       "      <td>0</td>\n",
       "      <td>0</td>\n",
       "      <td>0</td>\n",
       "      <td>0</td>\n",
       "      <td>0</td>\n",
       "      <td>0</td>\n",
       "      <td>0</td>\n",
       "      <td>0</td>\n",
       "      <td>...</td>\n",
       "      <td>0</td>\n",
       "      <td>0</td>\n",
       "      <td>0</td>\n",
       "      <td>0</td>\n",
       "      <td>0</td>\n",
       "      <td>0</td>\n",
       "      <td>0</td>\n",
       "      <td>0</td>\n",
       "      <td>0</td>\n",
       "      <td>0</td>\n",
       "    </tr>\n",
       "    <tr>\n",
       "      <th>2</th>\n",
       "      <td>15</td>\n",
       "      <td>0</td>\n",
       "      <td>0</td>\n",
       "      <td>0</td>\n",
       "      <td>0</td>\n",
       "      <td>0</td>\n",
       "      <td>0</td>\n",
       "      <td>0</td>\n",
       "      <td>0</td>\n",
       "      <td>0</td>\n",
       "      <td>...</td>\n",
       "      <td>0</td>\n",
       "      <td>0</td>\n",
       "      <td>0</td>\n",
       "      <td>0</td>\n",
       "      <td>0</td>\n",
       "      <td>0</td>\n",
       "      <td>0</td>\n",
       "      <td>0</td>\n",
       "      <td>0</td>\n",
       "      <td>0</td>\n",
       "    </tr>\n",
       "    <tr>\n",
       "      <th>3</th>\n",
       "      <td>23</td>\n",
       "      <td>0</td>\n",
       "      <td>0</td>\n",
       "      <td>0</td>\n",
       "      <td>0</td>\n",
       "      <td>0</td>\n",
       "      <td>0</td>\n",
       "      <td>0</td>\n",
       "      <td>0</td>\n",
       "      <td>0</td>\n",
       "      <td>...</td>\n",
       "      <td>0</td>\n",
       "      <td>0</td>\n",
       "      <td>0</td>\n",
       "      <td>0</td>\n",
       "      <td>0</td>\n",
       "      <td>0</td>\n",
       "      <td>0</td>\n",
       "      <td>0</td>\n",
       "      <td>0</td>\n",
       "      <td>0</td>\n",
       "    </tr>\n",
       "    <tr>\n",
       "      <th>4</th>\n",
       "      <td>17</td>\n",
       "      <td>0</td>\n",
       "      <td>0</td>\n",
       "      <td>0</td>\n",
       "      <td>0</td>\n",
       "      <td>0</td>\n",
       "      <td>0</td>\n",
       "      <td>0</td>\n",
       "      <td>0</td>\n",
       "      <td>0</td>\n",
       "      <td>...</td>\n",
       "      <td>0</td>\n",
       "      <td>0</td>\n",
       "      <td>0</td>\n",
       "      <td>0</td>\n",
       "      <td>0</td>\n",
       "      <td>0</td>\n",
       "      <td>0</td>\n",
       "      <td>0</td>\n",
       "      <td>0</td>\n",
       "      <td>0</td>\n",
       "    </tr>\n",
       "  </tbody>\n",
       "</table>\n",
       "<p>5 rows × 785 columns</p>\n",
       "</div>"
      ],
      "text/plain": [
       "   23  0  0.1  0.2  0.3  0.4  0.5  0.6  0.7  0.8  ...  0.406  0.407  0.408  \\\n",
       "0   7  0    0    0    0    0    0    0    0    0  ...      0      0      0   \n",
       "1  16  0    0    0    0    0    0    0    0    0  ...      0      0      0   \n",
       "2  15  0    0    0    0    0    0    0    0    0  ...      0      0      0   \n",
       "3  23  0    0    0    0    0    0    0    0    0  ...      0      0      0   \n",
       "4  17  0    0    0    0    0    0    0    0    0  ...      0      0      0   \n",
       "\n",
       "   0.409  0.410  0.411  0.412  0.413  0.414  0.415  \n",
       "0      0      0      0      0      0      0      0  \n",
       "1      0      0      0      0      0      0      0  \n",
       "2      0      0      0      0      0      0      0  \n",
       "3      0      0      0      0      0      0      0  \n",
       "4      0      0      0      0      0      0      0  \n",
       "\n",
       "[5 rows x 785 columns]"
      ]
     },
     "execution_count": 4,
     "metadata": {},
     "output_type": "execute_result"
    }
   ],
   "source": [
    "# Showing Data header\n",
    "data.head()"
   ]
  },
  {
   "attachments": {},
   "cell_type": "markdown",
   "metadata": {},
   "source": [
    "It looks like our column header for our 'labels' is named '23' in the data, so we can fix that for data set. This will make it easier to reference later on in the code. </b>\n",
    "\n",
    "We also notice that the labels are listed as integers 1-26 representing the entire alphabet. We will maintain this labeling method for ease of use."
   ]
  },
  {
   "cell_type": "code",
   "execution_count": 5,
   "metadata": {},
   "outputs": [],
   "source": [
    "#Renaming Labels Column\n",
    "data = data.rename({'23':'labels'}, axis='columns')\n",
    "\n",
    "# We'll also want to rename all the pixel columns to be representative of that\n",
    "\n",
    "count = 0\n",
    "\n",
    "for i in data.columns:\n",
    "    if (i != 'labels'):\n",
    "        newName = 'pixel' + str(count)\n",
    "        data = data.rename({i:newName}, axis='columns')\n",
    "        count += 1"
   ]
  },
  {
   "cell_type": "code",
   "execution_count": 6,
   "metadata": {},
   "outputs": [
    {
     "data": {
      "text/html": [
       "<div>\n",
       "<style scoped>\n",
       "    .dataframe tbody tr th:only-of-type {\n",
       "        vertical-align: middle;\n",
       "    }\n",
       "\n",
       "    .dataframe tbody tr th {\n",
       "        vertical-align: top;\n",
       "    }\n",
       "\n",
       "    .dataframe thead th {\n",
       "        text-align: right;\n",
       "    }\n",
       "</style>\n",
       "<table border=\"1\" class=\"dataframe\">\n",
       "  <thead>\n",
       "    <tr style=\"text-align: right;\">\n",
       "      <th></th>\n",
       "      <th>labels</th>\n",
       "      <th>pixel0</th>\n",
       "      <th>pixel1</th>\n",
       "      <th>pixel2</th>\n",
       "      <th>pixel3</th>\n",
       "      <th>pixel4</th>\n",
       "      <th>pixel5</th>\n",
       "      <th>pixel6</th>\n",
       "      <th>pixel7</th>\n",
       "      <th>pixel8</th>\n",
       "      <th>...</th>\n",
       "      <th>pixel774</th>\n",
       "      <th>pixel775</th>\n",
       "      <th>pixel776</th>\n",
       "      <th>pixel777</th>\n",
       "      <th>pixel778</th>\n",
       "      <th>pixel779</th>\n",
       "      <th>pixel780</th>\n",
       "      <th>pixel781</th>\n",
       "      <th>pixel782</th>\n",
       "      <th>pixel783</th>\n",
       "    </tr>\n",
       "  </thead>\n",
       "  <tbody>\n",
       "    <tr>\n",
       "      <th>0</th>\n",
       "      <td>7</td>\n",
       "      <td>0</td>\n",
       "      <td>0</td>\n",
       "      <td>0</td>\n",
       "      <td>0</td>\n",
       "      <td>0</td>\n",
       "      <td>0</td>\n",
       "      <td>0</td>\n",
       "      <td>0</td>\n",
       "      <td>0</td>\n",
       "      <td>...</td>\n",
       "      <td>0</td>\n",
       "      <td>0</td>\n",
       "      <td>0</td>\n",
       "      <td>0</td>\n",
       "      <td>0</td>\n",
       "      <td>0</td>\n",
       "      <td>0</td>\n",
       "      <td>0</td>\n",
       "      <td>0</td>\n",
       "      <td>0</td>\n",
       "    </tr>\n",
       "    <tr>\n",
       "      <th>1</th>\n",
       "      <td>16</td>\n",
       "      <td>0</td>\n",
       "      <td>0</td>\n",
       "      <td>0</td>\n",
       "      <td>0</td>\n",
       "      <td>0</td>\n",
       "      <td>0</td>\n",
       "      <td>0</td>\n",
       "      <td>0</td>\n",
       "      <td>0</td>\n",
       "      <td>...</td>\n",
       "      <td>0</td>\n",
       "      <td>0</td>\n",
       "      <td>0</td>\n",
       "      <td>0</td>\n",
       "      <td>0</td>\n",
       "      <td>0</td>\n",
       "      <td>0</td>\n",
       "      <td>0</td>\n",
       "      <td>0</td>\n",
       "      <td>0</td>\n",
       "    </tr>\n",
       "    <tr>\n",
       "      <th>2</th>\n",
       "      <td>15</td>\n",
       "      <td>0</td>\n",
       "      <td>0</td>\n",
       "      <td>0</td>\n",
       "      <td>0</td>\n",
       "      <td>0</td>\n",
       "      <td>0</td>\n",
       "      <td>0</td>\n",
       "      <td>0</td>\n",
       "      <td>0</td>\n",
       "      <td>...</td>\n",
       "      <td>0</td>\n",
       "      <td>0</td>\n",
       "      <td>0</td>\n",
       "      <td>0</td>\n",
       "      <td>0</td>\n",
       "      <td>0</td>\n",
       "      <td>0</td>\n",
       "      <td>0</td>\n",
       "      <td>0</td>\n",
       "      <td>0</td>\n",
       "    </tr>\n",
       "    <tr>\n",
       "      <th>3</th>\n",
       "      <td>23</td>\n",
       "      <td>0</td>\n",
       "      <td>0</td>\n",
       "      <td>0</td>\n",
       "      <td>0</td>\n",
       "      <td>0</td>\n",
       "      <td>0</td>\n",
       "      <td>0</td>\n",
       "      <td>0</td>\n",
       "      <td>0</td>\n",
       "      <td>...</td>\n",
       "      <td>0</td>\n",
       "      <td>0</td>\n",
       "      <td>0</td>\n",
       "      <td>0</td>\n",
       "      <td>0</td>\n",
       "      <td>0</td>\n",
       "      <td>0</td>\n",
       "      <td>0</td>\n",
       "      <td>0</td>\n",
       "      <td>0</td>\n",
       "    </tr>\n",
       "    <tr>\n",
       "      <th>4</th>\n",
       "      <td>17</td>\n",
       "      <td>0</td>\n",
       "      <td>0</td>\n",
       "      <td>0</td>\n",
       "      <td>0</td>\n",
       "      <td>0</td>\n",
       "      <td>0</td>\n",
       "      <td>0</td>\n",
       "      <td>0</td>\n",
       "      <td>0</td>\n",
       "      <td>...</td>\n",
       "      <td>0</td>\n",
       "      <td>0</td>\n",
       "      <td>0</td>\n",
       "      <td>0</td>\n",
       "      <td>0</td>\n",
       "      <td>0</td>\n",
       "      <td>0</td>\n",
       "      <td>0</td>\n",
       "      <td>0</td>\n",
       "      <td>0</td>\n",
       "    </tr>\n",
       "  </tbody>\n",
       "</table>\n",
       "<p>5 rows × 785 columns</p>\n",
       "</div>"
      ],
      "text/plain": [
       "   labels  pixel0  pixel1  pixel2  pixel3  pixel4  pixel5  pixel6  pixel7  \\\n",
       "0       7       0       0       0       0       0       0       0       0   \n",
       "1      16       0       0       0       0       0       0       0       0   \n",
       "2      15       0       0       0       0       0       0       0       0   \n",
       "3      23       0       0       0       0       0       0       0       0   \n",
       "4      17       0       0       0       0       0       0       0       0   \n",
       "\n",
       "   pixel8  ...  pixel774  pixel775  pixel776  pixel777  pixel778  pixel779  \\\n",
       "0       0  ...         0         0         0         0         0         0   \n",
       "1       0  ...         0         0         0         0         0         0   \n",
       "2       0  ...         0         0         0         0         0         0   \n",
       "3       0  ...         0         0         0         0         0         0   \n",
       "4       0  ...         0         0         0         0         0         0   \n",
       "\n",
       "   pixel780  pixel781  pixel782  pixel783  \n",
       "0         0         0         0         0  \n",
       "1         0         0         0         0  \n",
       "2         0         0         0         0  \n",
       "3         0         0         0         0  \n",
       "4         0         0         0         0  \n",
       "\n",
       "[5 rows x 785 columns]"
      ]
     },
     "execution_count": 6,
     "metadata": {},
     "output_type": "execute_result"
    }
   ],
   "source": [
    "#Checking the training data\n",
    "data.head()"
   ]
  },
  {
   "attachments": {},
   "cell_type": "markdown",
   "metadata": {},
   "source": [
    "Now we'll want to check for any null values, and to make sure that the data types align with what we're expecting. This is so our models don't break down the line."
   ]
  },
  {
   "cell_type": "code",
   "execution_count": 7,
   "metadata": {},
   "outputs": [
    {
     "name": "stdout",
     "output_type": "stream",
     "text": [
      "For Train Data: \n",
      "Series([], dtype: int64)\n"
     ]
    }
   ],
   "source": [
    "# Checking for Null Values\n",
    "NullVal = data.isnull().sum()\n",
    "print(\"For Train Data: \")\n",
    "print(NullVal[NullVal != 0])"
   ]
  },
  {
   "cell_type": "code",
   "execution_count": 8,
   "metadata": {},
   "outputs": [
    {
     "name": "stdout",
     "output_type": "stream",
     "text": [
      "Train Data: \n",
      "<class 'pandas.core.frame.DataFrame'>\n",
      "RangeIndex: 88799 entries, 0 to 88798\n",
      "Columns: 785 entries, labels to pixel783\n",
      "dtypes: int64(785)\n",
      "memory usage: 531.8 MB\n",
      "None\n"
     ]
    }
   ],
   "source": [
    "# Checking Data Types for the Data\n",
    "print(\"Train Data: \")\n",
    "print(data.info())"
   ]
  },
  {
   "attachments": {},
   "cell_type": "markdown",
   "metadata": {},
   "source": [
    "Lastly, we'll want to ensure that our pixel values contain intensity values, and that our training data has all 26 letters in it."
   ]
  },
  {
   "cell_type": "code",
   "execution_count": 9,
   "metadata": {},
   "outputs": [
    {
     "name": "stdout",
     "output_type": "stream",
     "text": [
      "        pixel0   pixel1   pixel2        pixel3        pixel4        pixel5  \\\n",
      "count  88799.0  88799.0  88799.0  88799.000000  88799.000000  88799.000000   \n",
      "mean       0.0      0.0      0.0      0.000011      0.003987      0.016757   \n",
      "std        0.0      0.0      0.0      0.003356      0.544042      1.547695   \n",
      "min        0.0      0.0      0.0      0.000000      0.000000      0.000000   \n",
      "25%        0.0      0.0      0.0      0.000000      0.000000      0.000000   \n",
      "50%        0.0      0.0      0.0      0.000000      0.000000      0.000000   \n",
      "75%        0.0      0.0      0.0      0.000000      0.000000      0.000000   \n",
      "max        0.0      0.0      0.0      1.000000    107.000000    213.000000   \n",
      "\n",
      "             pixel6        pixel7        pixel8        pixel9  ...  pixel774  \\\n",
      "count  88799.000000  88799.000000  88799.000000  88799.000000  ...   88799.0   \n",
      "mean       0.024640      0.021487      0.017140      0.010383  ...       0.0   \n",
      "std        1.915987      1.803280      1.620203      1.134288  ...       0.0   \n",
      "min        0.000000      0.000000      0.000000      0.000000  ...       0.0   \n",
      "25%        0.000000      0.000000      0.000000      0.000000  ...       0.0   \n",
      "50%        0.000000      0.000000      0.000000      0.000000  ...       0.0   \n",
      "75%        0.000000      0.000000      0.000000      0.000000  ...       0.0   \n",
      "max      217.000000    214.000000    216.000000    217.000000  ...       0.0   \n",
      "\n",
      "       pixel775  pixel776      pixel777      pixel778  pixel779  pixel780  \\\n",
      "count   88799.0   88799.0  88799.000000  88799.000000   88799.0   88799.0   \n",
      "mean        0.0       0.0      0.003041      0.000360       0.0       0.0   \n",
      "std         0.0       0.0      0.823450      0.107386       0.0       0.0   \n",
      "min         0.0       0.0      0.000000      0.000000       0.0       0.0   \n",
      "25%         0.0       0.0      0.000000      0.000000       0.0       0.0   \n",
      "50%         0.0       0.0      0.000000      0.000000       0.0       0.0   \n",
      "75%         0.0       0.0      0.000000      0.000000       0.0       0.0   \n",
      "max         0.0       0.0    244.000000     32.000000       0.0       0.0   \n",
      "\n",
      "       pixel781  pixel782  pixel783  \n",
      "count   88799.0   88799.0   88799.0  \n",
      "mean        0.0       0.0       0.0  \n",
      "std         0.0       0.0       0.0  \n",
      "min         0.0       0.0       0.0  \n",
      "25%         0.0       0.0       0.0  \n",
      "50%         0.0       0.0       0.0  \n",
      "75%         0.0       0.0       0.0  \n",
      "max         0.0       0.0       0.0  \n",
      "\n",
      "[8 rows x 784 columns]\n"
     ]
    },
    {
     "data": {
      "text/plain": [
       "Text(0.5, 1.0, 'Histogram of EMNIST Data Set')"
      ]
     },
     "execution_count": 9,
     "metadata": {},
     "output_type": "execute_result"
    },
    {
     "data": {
      "image/png": "[encoded data removed]",
      "text/plain": [
       "<Figure size 640x480 with 1 Axes>"
      ]
     },
     "metadata": {},
     "output_type": "display_data"
    }
   ],
   "source": [
    "# For the training data\n",
    "print(data.iloc[:, 1:].describe())\n",
    "\n",
    "# Add Labels\n",
    "ax = data['labels'].value_counts().plot(kind='bar')\n",
    "ax.set_xlabel('Labels')\n",
    "ax.set_ylabel('Occurences')\n",
    "ax.set_title('Histogram of EMNIST Data Set')"
   ]
  },
  {
   "attachments": {},
   "cell_type": "markdown",
   "metadata": {},
   "source": [
    "Now that we have common column headers across both our dataset, we can now begin to work with the data in a meaningful way. EMNIST is a newer and less used dataset compared to MNIST, so it isn't as clean. We also confirmed that there are no null values within the dataset, and it consists of all integer values so we won't have any issues building our classification models. </br>\n",
    "\n",
    "We also ensured that for the training and testing data sets have real intensity values in their pixels. We also ensured that there is an even distribution of letters within the data set, meaning we shouldn't have any bias towards a particular letter being trained on more significantly than any others. </br>"
   ]
  },
  {
   "attachments": {},
   "cell_type": "markdown",
   "metadata": {},
   "source": [
    "### **Exploratory Data Analysis**"
   ]
  },
  {
   "attachments": {},
   "cell_type": "markdown",
   "metadata": {},
   "source": [
    "Starting off we can split up our dataset into X, being our intensity values per pixel, and y, our labels. We'll also want to create an \"alphabet\" array to reference when accessing our labels."
   ]
  },
  {
   "cell_type": "code",
   "execution_count": 10,
   "metadata": {},
   "outputs": [],
   "source": [
    "# Seperating data from lables\n",
    "X = data.drop('labels', axis=1).values\n",
    "y = data['labels'].values"
   ]
  },
  {
   "cell_type": "code",
   "execution_count": 11,
   "metadata": {},
   "outputs": [],
   "source": [
    "# Creating array of the alphabet\n",
    "alphabet = []\n",
    "for i in range(26):\n",
    "    letter = chr(ord('a') + i)\n",
    "    alphabet.append(letter)"
   ]
  },
  {
   "attachments": {},
   "cell_type": "markdown",
   "metadata": {},
   "source": [
    "Now we can use these new arrays to try plotting an example of what these handwritten letters look like. The images are flipped and rotated, so this is corrected in plotting. This fact won't change the classification models, since they are all in the same orientation."
   ]
  },
  {
   "cell_type": "code",
   "execution_count": 12,
   "metadata": {},
   "outputs": [],
   "source": [
    "# Method to view the letters at a specified index\n",
    "def view_letter(data, label=None):\n",
    "    fig = plt.figure(figsize=(3,3))\n",
    "    data = np.flipud(data.reshape(28,28))\n",
    "    data = np.rot90(data)\n",
    "    data = np.rot90(data)\n",
    "    data = np.rot90(data)\n",
    "    plt.imshow(data, cmap='gray');\n",
    "    plt.xticks([]); plt.yticks([]);\n",
    "    if label: plt.xlabel(\"True: {}\".format(label), fontsize=16) "
   ]
  },
  {
   "attachments": {},
   "cell_type": "markdown",
   "metadata": {},
   "source": [
    "In the cell below we can play with the index value and show a letter with it's true label."
   ]
  },
  {
   "cell_type": "code",
   "execution_count": 13,
   "metadata": {},
   "outputs": [
    {
     "data": {
      "image/png": "[encoded data removed]",
      "text/plain": [
       "<Figure size 300x300 with 1 Axes>"
      ]
     },
     "metadata": {},
     "output_type": "display_data"
    }
   ],
   "source": [
    "# Specify an index within the dataset and plot, along with specifying its true label\n",
    "index = 5\n",
    "\n",
    "view_letter(X[index], label=alphabet[y[index]-1])"
   ]
  },
  {
   "attachments": {},
   "cell_type": "markdown",
   "metadata": {},
   "source": [
    "Aside from the histogram showing the frequency of letters that show up in the dataset, found in the Data Cleaning section, we can also plot the intensities found across the dataset per letter."
   ]
  },
  {
   "cell_type": "code",
   "execution_count": 14,
   "metadata": {},
   "outputs": [
    {
     "data": {
      "text/plain": [
       "Text(0.5, 1.0, 'Average Intensity Across EMNIST Dataset')"
      ]
     },
     "execution_count": 14,
     "metadata": {},
     "output_type": "execute_result"
    },
    {
     "data": {
      "image/png": "[encoded data removed]",
      "text/plain": [
       "<Figure size 640x480 with 1 Axes>"
      ]
     },
     "metadata": {},
     "output_type": "display_data"
    }
   ],
   "source": [
    "# Initialize arrays to store intensity values and counts\n",
    "avg_intensity = np.zeros(26)\n",
    "counts = np.zeros(26)\n",
    "\n",
    "# Loop through X and gather information. Exlude intensity values of 0 which are black pixels\n",
    "\n",
    "for i in range(len(X)):\n",
    "    counts[y[i]-1] += 1\n",
    "    avg_intensity[y[i]-1] += np.mean(X[i])\n",
    "\n",
    "avg_intensity /= counts\n",
    "\n",
    "# Plot a histogram of the intensity values\n",
    "\n",
    "plt.bar(alphabet, avg_intensity)\n",
    "plt.xlabel('Label')\n",
    "plt.ylabel('Average Intensity')\n",
    "plt.title('Average Intensity Across EMNIST Dataset')\n"
   ]
  },
  {
   "cell_type": "markdown",
   "metadata": {},
   "source": [
    "We can see that there is quite a bit of variability in intensity between letters, but that is generally due to the size and shape of the letter written. For example, the letter i takes up significantly less space than something like a so the intensity is lower due to there being many more black pixels. </br>\n",
    "\n",
    "Something else we can look at is the distribution of intensities across a particular letter. For this example I'll use the letter 'z' and compare it to 'o'."
   ]
  },
  {
   "cell_type": "code",
   "execution_count": 15,
   "metadata": {},
   "outputs": [
    {
     "data": {
      "text/plain": [
       "<matplotlib.legend.Legend at 0x18864753490>"
      ]
     },
     "execution_count": 15,
     "metadata": {},
     "output_type": "execute_result"
    },
    {
     "data": {
      "image/png": "[encoded data removed]",
      "text/plain": [
       "<Figure size 640x480 with 1 Axes>"
      ]
     },
     "metadata": {},
     "output_type": "display_data"
    }
   ],
   "source": [
    "# Initialize Arrays\n",
    "avg_intensity_z = []\n",
    "avg_intensity_o = []\n",
    "\n",
    "# Loop through the length and X and pick out any intensities that are Z or O\n",
    "for i in range(len(X)):\n",
    "    if y[i] == 26:\n",
    "        avg_intensity_z.append(np.mean(X[i]))\n",
    "\n",
    "    if y[i] == 9:\n",
    "        avg_intensity_o.append(np.mean(X[i]))\n",
    "\n",
    "# Plot the distribution of intensities                         \n",
    "plt.hist(avg_intensity_z, bins=100, color='green', label='Z')\n",
    "plt.hist(avg_intensity_o, bins=100, color='blue', label='O')\n",
    "plt.xlabel('Average Intensity')\n",
    "plt.ylabel('Frequency')\n",
    "plt.title('Distribution of Intensity for O and Z')\n",
    "plt.legend()"
   ]
  },
  {
   "cell_type": "markdown",
   "metadata": {},
   "source": [
    "As one might expect, there is higher variability in how someone might write the z versus how someone might write the letter o. The purpose of showing these distributions also helps to show feature seperability, which will allow us to better classify the letters."
   ]
  },
  {
   "cell_type": "markdown",
   "metadata": {},
   "source": [
    "In conclusion, we have found that our dataset contains proper distribution of letters so we don't introduce any training bias towards any particular letter. We were also able to take a look at what the images look like, along with the distribution of their features (intensity values). </br>\n",
    "\n",
    "As expected, smaller and small letters, like i and l will have lower intensity values than larger letters like o and z. We were also able to compare the distribution of intensities for the letters o and z to show variability. A simple letter like o has less variation in how people write it, versus something like z. Depending on the models you are interested in using, this feature seperability can help in classification. It's also important to note that these distributions follow a mostly normal distribution, meaning that the data set is truly random with differing variability. "
   ]
  },
  {
   "attachments": {},
   "cell_type": "markdown",
   "metadata": {},
   "source": [
    "### **Models**"
   ]
  },
  {
   "cell_type": "markdown",
   "metadata": {},
   "source": [
    "To start off, we'll split our data into training and testing sets. For our purposes we'll use a test size of 20%."
   ]
  },
  {
   "cell_type": "code",
   "execution_count": 16,
   "metadata": {},
   "outputs": [],
   "source": [
    "# Split the data into train and test sets with a test size of 20%\n",
    "X_train, X_test, y_train, y_test = train_test_split(X,y, test_size=0.2)"
   ]
  },
  {
   "cell_type": "markdown",
   "metadata": {},
   "source": [
    "##### **Logistic Regression**"
   ]
  },
  {
   "cell_type": "markdown",
   "metadata": {},
   "source": [
    "As our first classification model, we'll be using Logistic Regression."
   ]
  },
  {
   "cell_type": "code",
   "execution_count": 17,
   "metadata": {},
   "outputs": [],
   "source": [
    "# And now to train the model\n",
    "LogReg = LogisticRegression(random_state=0, solver='liblinear').fit(X_train[:1000], y_train[:1000])"
   ]
  },
  {
   "cell_type": "code",
   "execution_count": 20,
   "metadata": {},
   "outputs": [
    {
     "name": "stdout",
     "output_type": "stream",
     "text": [
      "0.6\n"
     ]
    }
   ],
   "source": [
    "predictions = LogReg.predict(X_test[0:10])\n",
    "\n",
    "score = LogReg.score(X_test[:10],y_test[:10])\n",
    "\n",
    "print(score)"
   ]
  },
  {
   "attachments": {},
   "cell_type": "markdown",
   "metadata": {},
   "source": [
    "### **Results and Analysis**"
   ]
  },
  {
   "attachments": {},
   "cell_type": "markdown",
   "metadata": {},
   "source": [
    "### **Discussion and Conclusion**"
   ]
  }
 ],
 "metadata": {
  "kernelspec": {
   "display_name": "Python 3",
   "language": "python",
   "name": "python3"
  },
  "language_info": {
   "codemirror_mode": {
    "name": "ipython",
    "version": 3
   },
   "file_extension": ".py",
   "mimetype": "text/x-python",
   "name": "python",
   "nbconvert_exporter": "python",
   "pygments_lexer": "ipython3",
   "version": "3.12.0"
  },
  "orig_nbformat": 4
 },
 "nbformat": 4,
 "nbformat_minor": 2
}
